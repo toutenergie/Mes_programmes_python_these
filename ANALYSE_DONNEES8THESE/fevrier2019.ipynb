{
 "cells": [
  {
   "cell_type": "code",
   "execution_count": 1,
   "metadata": {},
   "outputs": [],
   "source": [
    "import pandas as pd\n",
    "import numpy as np\n",
    "import matplotlib.pyplot as plt\n",
    "import os\n",
    "import seaborn as sns"
   ]
  },
  {
   "cell_type": "code",
   "execution_count": 2,
   "metadata": {},
   "outputs": [],
   "source": [
    "fichier_excel = r\"F:\\Mes_Documents_de_these\\DOCUMENTS_RECHERCHE\\DOCUMENTS_DE_REPPORTS\\Datasets_theses\\Rapports2019\\02février2019\\01022019V.xlsx\"\n",
    "donnees = pd.read_excel(fichier_excel,sheet_name=None) # lecture du fichier avec tous les feuilles selon (sheet_name= None)"
   ]
  },
  {
   "cell_type": "code",
   "execution_count": 3,
   "metadata": {},
   "outputs": [
    {
     "data": {
      "text/plain": [
       "dict_keys(['Rapport', 'Centrales', 'Demande', 'Délestage', 'P Inst', 'Energie', 'Pdel', 'Pdispo', 'Clients HT', 'liens', 'Reseau', 'Feuil1'])"
      ]
     },
     "execution_count": 3,
     "metadata": {},
     "output_type": "execute_result"
    }
   ],
   "source": [
    "donnees.keys()"
   ]
  },
  {
   "cell_type": "code",
   "execution_count": 4,
   "metadata": {},
   "outputs": [
    {
     "name": "stdout",
     "output_type": "stream",
     "text": [
      "Ok pour ce classeur 01022019V.xlsx\n",
      "Ok pour ce classeur 02022019S.xlsx\n",
      "Ok pour ce classeur 03022019D.xlsx\n",
      "Ok pour ce classeur 04022019L.xlsx\n",
      "Ok pour ce classeur 05022019Ma.xlsx\n",
      "Ok pour ce classeur 06022019Me.xlsx\n",
      "Ok pour ce classeur 07022019J.xlsx\n",
      "Ce classseur 08022019V.xlsx a des feuilles differentes \n",
      "Ce classseur 09022019S.xlsx a des feuilles differentes \n",
      "Ce classseur 10022019D.xlsx a des feuilles differentes \n",
      "Ce classseur 11022019L.xlsx a des feuilles differentes \n",
      "Ce classseur 12022019Ma.xlsx a des feuilles differentes \n",
      "Ce classseur 13022019Me.xlsx a des feuilles differentes \n",
      "Ce classseur 14022019J.xlsx a des feuilles differentes \n",
      "Ce classseur 15022019V.xlsx a des feuilles differentes \n",
      "Ce classseur 16022019S.xlsx a des feuilles differentes \n",
      "Ce classseur 17022019D.xlsx a des feuilles differentes \n",
      "Ce classseur 18022019L.xlsx a des feuilles differentes \n",
      "Ce classseur 19022019Ma.xlsx a des feuilles differentes \n",
      "Ce classseur 20022019Me.xlsx a des feuilles differentes \n",
      "Ce classseur 21022019J.xlsx a des feuilles differentes \n",
      "Ce classseur 22022019V.xlsx a des feuilles differentes \n",
      "Ce classseur 23022019S.xlsx a des feuilles differentes \n",
      "Ce classseur 24022019D.xlsx a des feuilles differentes \n",
      "Ce classseur 25022019L.xlsx a des feuilles differentes \n",
      "Ce classseur 26022019Ma.xlsx a des feuilles differentes \n",
      "Ce classseur 27022019Me.xlsx a des feuilles differentes \n",
      "Ce classseur 28022019J.xlsx a des feuilles differentes \n",
      "le nombres de fichiers ok 7\n",
      "le nombres de fichiers defecteux 21\n"
     ]
    }
   ],
   "source": [
    "dossier = r\"F:\\Mes_Documents_de_these\\DOCUMENTS_RECHERCHE\\DOCUMENTS_DE_REPPORTS\\Datasets_theses\\Rapports2019\\02février2019\"\n",
    "\n",
    "# liste des fichiers contenus dans le dossier du mois de janvier avec elimination des extentions non conformes\n",
    "fichiers_excel1 = [f for f in os.listdir(dossier) if f.endswith(\".xlsx\") and not f.startswith(\"~$\")]\n",
    "\n",
    " \n",
    "# innitialisation pour conpter le nombres de fichiers qui ont les meme feuilles et ceux qui sont differents\n",
    "vraie, faux = 0, 0\n",
    "\n",
    "# inintiasation de listes qui contiennent les chemins des differents fichiers\n",
    "listvraie,lisfaux = [],[] \n",
    "\n",
    "\n",
    "for classeur in fichiers_excel1:\n",
    "    \n",
    "    \n",
    "    chemin_complet = os.path.join(dossier, classeur) # pour avoir le chemin complet\n",
    "    \n",
    "    \n",
    "    if pd.read_excel(chemin_complet,sheet_name=None).keys() == donnees.keys(): # comparaison des cles\n",
    "        \n",
    "       print(f\"Ok pour ce classeur {classeur}\") # affichage du dossier\n",
    "       \n",
    "       vraie +=1 # iteration\n",
    "       \n",
    "       listvraie.append(classeur) # ajouter dans la liste\n",
    "    else:\n",
    "        print(f'Ce classseur {classeur} a des feuilles differentes ') # affichages du dossier\n",
    "        \n",
    "        lisfaux.append(classeur) # ajout dans le liste\n",
    "        \n",
    "        faux +=1 #itteration\n",
    "\n",
    "print(f'le nombres de fichiers ok {vraie}')\n",
    "\n",
    "print(f'le nombres de fichiers defecteux {faux}')"
   ]
  },
  {
   "cell_type": "code",
   "execution_count": 5,
   "metadata": {},
   "outputs": [],
   "source": [
    "fichier = r\"F:\\Mes_Documents_de_these\\DOCUMENTS_RECHERCHE\\DOCUMENTS_DE_REPPORTS\\Datasets_theses\\Rapports2019\\02février2019\\08022019V.xlsx\"\n",
    "donnees1 = pd.read_excel(fichier_excel,sheet_name=None) # lecture du fichier avec tous les feuilles selon (sheet_name= None) 08022019V.xlsx"
   ]
  },
  {
   "cell_type": "code",
   "execution_count": 6,
   "metadata": {},
   "outputs": [
    {
     "data": {
      "text/plain": [
       "dict_keys(['Rapport', 'Centrales', 'Demande', 'Délestage', 'P Inst', 'Energie', 'Pdel', 'Pdispo', 'Clients HT', 'liens', 'Reseau', 'Feuil1'])"
      ]
     },
     "execution_count": 6,
     "metadata": {},
     "output_type": "execute_result"
    }
   ],
   "source": [
    "donnees1.keys()"
   ]
  },
  {
   "cell_type": "code",
   "execution_count": 12,
   "metadata": {},
   "outputs": [
    {
     "data": {
      "text/plain": [
       "Index([                 'Heures',                       106,\n",
       "                             301,                       303,\n",
       "                          'TAG2',                    'TAG4',\n",
       "                             401,                       402,\n",
       "                             403,                       404,\n",
       "                             405,                     'Agg',\n",
       "                        'Sendou',                    'Koun',\n",
       "                            'TP',             'Unnamed: 15',\n",
       "                            'CG',                    'Kah1',\n",
       "                            'C7',                      'C6',\n",
       "                      'PV-Mbour',                'PV-CICAD',\n",
       "                     'PV Kahone',               'PV-Bokhol',\n",
       "                          'Dang',                     'ICS',\n",
       "               'PV Mékhé Mérina',     'PV S Mekhe Santhiou',\n",
       "                   'Unnamed: 28',                'PV Sakal',\n",
       "                            'RI', 'Manantali+Felou+Somelec',\n",
       "                           'RGI',                   'RGI.1',\n",
       "                         'RGI.2',                   'RGI.3',\n",
       "                         'RGI.4',          'Export Senelec'],\n",
       "      dtype='object')"
      ]
     },
     "execution_count": 12,
     "metadata": {},
     "output_type": "execute_result"
    }
   ],
   "source": [
    "donnees1['Energie'].columns"
   ]
  }
 ],
 "metadata": {
  "kernelspec": {
   "display_name": "base",
   "language": "python",
   "name": "python3"
  },
  "language_info": {
   "codemirror_mode": {
    "name": "ipython",
    "version": 3
   },
   "file_extension": ".py",
   "mimetype": "text/x-python",
   "name": "python",
   "nbconvert_exporter": "python",
   "pygments_lexer": "ipython3",
   "version": "3.12.7"
  }
 },
 "nbformat": 4,
 "nbformat_minor": 2
}
