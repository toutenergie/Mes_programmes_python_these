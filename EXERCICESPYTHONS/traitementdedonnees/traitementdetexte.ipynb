{
 "cells": [
  {
   "cell_type": "code",
   "execution_count": 1,
   "metadata": {},
   "outputs": [],
   "source": [
    "from os import listdir\n",
    "import os"
   ]
  },
  {
   "cell_type": "code",
   "execution_count": 2,
   "metadata": {},
   "outputs": [],
   "source": [
    "import os\n",
    "\n",
    "chemin = r\"A:\\Mes_Documents_de_these\\DOCUMENTS_RECHERCHE\\DOCUMENTS_DE_REPPORTS\\Mes_programmes_python_these\\ANALYSE_DONNEES8THESE\\traitementdedonnees\\Speeches\"\n",
    "if os.path.exists(chemin):\n",
    "    noms_fichiers = os.listdir(chemin)\n",
    "else:\n",
    "    print(\"Le chemin d’accès spécifié est introuvable\")\n"
   ]
  },
  {
   "cell_type": "code",
   "execution_count": 3,
   "metadata": {},
   "outputs": [
    {
     "data": {
      "text/plain": [
       "35"
      ]
     },
     "execution_count": 3,
     "metadata": {},
     "output_type": "execute_result"
    }
   ],
   "source": [
    "len(noms_fichiers)"
   ]
  },
  {
   "cell_type": "code",
   "execution_count": 4,
   "metadata": {},
   "outputs": [],
   "source": [
    "import pandas as pd\n",
    "df = pd.DataFrame(index=range(len(noms_fichiers)), columns=['nom_du_fichier','contenue'])"
   ]
  },
  {
   "cell_type": "code",
   "execution_count": 5,
   "metadata": {},
   "outputs": [],
   "source": [
    "for i,f_num in enumerate(noms_fichiers):\n",
    "    f = open(\"Speeches/\"+f_num,\"r\",encoding=\"utf-8\")\n",
    "    f_content = f.readlines()\n",
    "    f.close()\n",
    "    \n",
    "    df.at[i,\"nom_du_fichier\"]= f_num\n",
    "    df.at[i,\"contenue\"] = f_content[0]"
   ]
  },
  {
   "cell_type": "code",
   "execution_count": 6,
   "metadata": {},
   "outputs": [
    {
     "data": {
      "text/html": [
       "<div>\n",
       "<style scoped>\n",
       "    .dataframe tbody tr th:only-of-type {\n",
       "        vertical-align: middle;\n",
       "    }\n",
       "\n",
       "    .dataframe tbody tr th {\n",
       "        vertical-align: top;\n",
       "    }\n",
       "\n",
       "    .dataframe thead th {\n",
       "        text-align: right;\n",
       "    }\n",
       "</style>\n",
       "<table border=\"1\" class=\"dataframe\">\n",
       "  <thead>\n",
       "    <tr style=\"text-align: right;\">\n",
       "      <th></th>\n",
       "      <th>nom_du_fichier</th>\n",
       "      <th>contenue</th>\n",
       "    </tr>\n",
       "  </thead>\n",
       "  <tbody>\n",
       "    <tr>\n",
       "      <th>0</th>\n",
       "      <td>BattleCreekDec19_2019.txt</td>\n",
       "      <td>Thank you. Thank you. Thank you to Vice Presid...</td>\n",
       "    </tr>\n",
       "    <tr>\n",
       "      <th>1</th>\n",
       "      <td>BemidjiSep18_2020.txt</td>\n",
       "      <td>There's a lot of people. That's great. Thank y...</td>\n",
       "    </tr>\n",
       "    <tr>\n",
       "      <th>2</th>\n",
       "      <td>CharlestonFeb28_2020.txt</td>\n",
       "      <td>Thank you. Thank you. Thank you. All I can say...</td>\n",
       "    </tr>\n",
       "    <tr>\n",
       "      <th>3</th>\n",
       "      <td>CharlotteMar2_2020.txt</td>\n",
       "      <td>I want to thank you very much. North Carolina,...</td>\n",
       "    </tr>\n",
       "    <tr>\n",
       "      <th>4</th>\n",
       "      <td>CincinnatiAug1_2019.txt</td>\n",
       "      <td>Thank you all. Thank you very much. Thank you ...</td>\n",
       "    </tr>\n",
       "  </tbody>\n",
       "</table>\n",
       "</div>"
      ],
      "text/plain": [
       "              nom_du_fichier  \\\n",
       "0  BattleCreekDec19_2019.txt   \n",
       "1      BemidjiSep18_2020.txt   \n",
       "2   CharlestonFeb28_2020.txt   \n",
       "3     CharlotteMar2_2020.txt   \n",
       "4    CincinnatiAug1_2019.txt   \n",
       "\n",
       "                                            contenue  \n",
       "0  Thank you. Thank you. Thank you to Vice Presid...  \n",
       "1  There's a lot of people. That's great. Thank y...  \n",
       "2  Thank you. Thank you. Thank you. All I can say...  \n",
       "3  I want to thank you very much. North Carolina,...  \n",
       "4  Thank you all. Thank you very much. Thank you ...  "
      ]
     },
     "execution_count": 6,
     "metadata": {},
     "output_type": "execute_result"
    }
   ],
   "source": [
    "df.head()"
   ]
  },
  {
   "cell_type": "code",
   "execution_count": 7,
   "metadata": {},
   "outputs": [],
   "source": [
    "def separateurville(v):\n",
    "    ville = \"\"\n",
    "    mois = ['Jan','Feb','Mar','Apr','May','Jun','Jul','Aug','Oct','Sep','Nov','Dec'] \n",
    "    for m in mois:\n",
    "        if m in v:\n",
    "            ville = v[:v.find(m)]\n",
    "        \n",
    "    return ville"
   ]
  },
  {
   "cell_type": "code",
   "execution_count": 8,
   "metadata": {},
   "outputs": [
    {
     "data": {
      "text/html": [
       "<div>\n",
       "<style scoped>\n",
       "    .dataframe tbody tr th:only-of-type {\n",
       "        vertical-align: middle;\n",
       "    }\n",
       "\n",
       "    .dataframe tbody tr th {\n",
       "        vertical-align: top;\n",
       "    }\n",
       "\n",
       "    .dataframe thead th {\n",
       "        text-align: right;\n",
       "    }\n",
       "</style>\n",
       "<table border=\"1\" class=\"dataframe\">\n",
       "  <thead>\n",
       "    <tr style=\"text-align: right;\">\n",
       "      <th></th>\n",
       "      <th>nom_du_fichier</th>\n",
       "      <th>contenue</th>\n",
       "      <th>Villes</th>\n",
       "    </tr>\n",
       "  </thead>\n",
       "  <tbody>\n",
       "    <tr>\n",
       "      <th>0</th>\n",
       "      <td>BattleCreekDec19_2019.txt</td>\n",
       "      <td>Thank you. Thank you. Thank you to Vice Presid...</td>\n",
       "      <td>BattleCreek</td>\n",
       "    </tr>\n",
       "    <tr>\n",
       "      <th>1</th>\n",
       "      <td>BemidjiSep18_2020.txt</td>\n",
       "      <td>There's a lot of people. That's great. Thank y...</td>\n",
       "      <td>Bemidji</td>\n",
       "    </tr>\n",
       "    <tr>\n",
       "      <th>2</th>\n",
       "      <td>CharlestonFeb28_2020.txt</td>\n",
       "      <td>Thank you. Thank you. Thank you. All I can say...</td>\n",
       "      <td>Charleston</td>\n",
       "    </tr>\n",
       "    <tr>\n",
       "      <th>3</th>\n",
       "      <td>CharlotteMar2_2020.txt</td>\n",
       "      <td>I want to thank you very much. North Carolina,...</td>\n",
       "      <td>Charlotte</td>\n",
       "    </tr>\n",
       "    <tr>\n",
       "      <th>4</th>\n",
       "      <td>CincinnatiAug1_2019.txt</td>\n",
       "      <td>Thank you all. Thank you very much. Thank you ...</td>\n",
       "      <td>Cincinnati</td>\n",
       "    </tr>\n",
       "  </tbody>\n",
       "</table>\n",
       "</div>"
      ],
      "text/plain": [
       "              nom_du_fichier  \\\n",
       "0  BattleCreekDec19_2019.txt   \n",
       "1      BemidjiSep18_2020.txt   \n",
       "2   CharlestonFeb28_2020.txt   \n",
       "3     CharlotteMar2_2020.txt   \n",
       "4    CincinnatiAug1_2019.txt   \n",
       "\n",
       "                                            contenue       Villes  \n",
       "0  Thank you. Thank you. Thank you to Vice Presid...  BattleCreek  \n",
       "1  There's a lot of people. That's great. Thank y...      Bemidji  \n",
       "2  Thank you. Thank you. Thank you. All I can say...   Charleston  \n",
       "3  I want to thank you very much. North Carolina,...    Charlotte  \n",
       "4  Thank you all. Thank you very much. Thank you ...   Cincinnati  "
      ]
     },
     "execution_count": 8,
     "metadata": {},
     "output_type": "execute_result"
    }
   ],
   "source": [
    "df['Villes'] = df.nom_du_fichier.apply(separateurville)\n",
    "df.head()"
   ]
  },
  {
   "cell_type": "code",
   "execution_count": 9,
   "metadata": {},
   "outputs": [],
   "source": [
    "def separateurdate(c):\n",
    "    date = c.nom_du_fichier[len(c.Villes):c.nom_du_fichier.find(\".txt\")]\n",
    "    return date\n",
    "    "
   ]
  },
  {
   "cell_type": "code",
   "execution_count": 10,
   "metadata": {},
   "outputs": [
    {
     "data": {
      "text/html": [
       "<div>\n",
       "<style scoped>\n",
       "    .dataframe tbody tr th:only-of-type {\n",
       "        vertical-align: middle;\n",
       "    }\n",
       "\n",
       "    .dataframe tbody tr th {\n",
       "        vertical-align: top;\n",
       "    }\n",
       "\n",
       "    .dataframe thead th {\n",
       "        text-align: right;\n",
       "    }\n",
       "</style>\n",
       "<table border=\"1\" class=\"dataframe\">\n",
       "  <thead>\n",
       "    <tr style=\"text-align: right;\">\n",
       "      <th></th>\n",
       "      <th>nom_du_fichier</th>\n",
       "      <th>contenue</th>\n",
       "      <th>Villes</th>\n",
       "      <th>Date</th>\n",
       "    </tr>\n",
       "  </thead>\n",
       "  <tbody>\n",
       "    <tr>\n",
       "      <th>0</th>\n",
       "      <td>BattleCreekDec19_2019.txt</td>\n",
       "      <td>Thank you. Thank you. Thank you to Vice Presid...</td>\n",
       "      <td>BattleCreek</td>\n",
       "      <td>Dec19_2019</td>\n",
       "    </tr>\n",
       "    <tr>\n",
       "      <th>1</th>\n",
       "      <td>BemidjiSep18_2020.txt</td>\n",
       "      <td>There's a lot of people. That's great. Thank y...</td>\n",
       "      <td>Bemidji</td>\n",
       "      <td>Sep18_2020</td>\n",
       "    </tr>\n",
       "    <tr>\n",
       "      <th>2</th>\n",
       "      <td>CharlestonFeb28_2020.txt</td>\n",
       "      <td>Thank you. Thank you. Thank you. All I can say...</td>\n",
       "      <td>Charleston</td>\n",
       "      <td>Feb28_2020</td>\n",
       "    </tr>\n",
       "    <tr>\n",
       "      <th>3</th>\n",
       "      <td>CharlotteMar2_2020.txt</td>\n",
       "      <td>I want to thank you very much. North Carolina,...</td>\n",
       "      <td>Charlotte</td>\n",
       "      <td>Mar2_2020</td>\n",
       "    </tr>\n",
       "    <tr>\n",
       "      <th>4</th>\n",
       "      <td>CincinnatiAug1_2019.txt</td>\n",
       "      <td>Thank you all. Thank you very much. Thank you ...</td>\n",
       "      <td>Cincinnati</td>\n",
       "      <td>Aug1_2019</td>\n",
       "    </tr>\n",
       "  </tbody>\n",
       "</table>\n",
       "</div>"
      ],
      "text/plain": [
       "              nom_du_fichier  \\\n",
       "0  BattleCreekDec19_2019.txt   \n",
       "1      BemidjiSep18_2020.txt   \n",
       "2   CharlestonFeb28_2020.txt   \n",
       "3     CharlotteMar2_2020.txt   \n",
       "4    CincinnatiAug1_2019.txt   \n",
       "\n",
       "                                            contenue       Villes        Date  \n",
       "0  Thank you. Thank you. Thank you to Vice Presid...  BattleCreek  Dec19_2019  \n",
       "1  There's a lot of people. That's great. Thank y...      Bemidji  Sep18_2020  \n",
       "2  Thank you. Thank you. Thank you. All I can say...   Charleston  Feb28_2020  \n",
       "3  I want to thank you very much. North Carolina,...    Charlotte   Mar2_2020  \n",
       "4  Thank you all. Thank you very much. Thank you ...   Cincinnati   Aug1_2019  "
      ]
     },
     "execution_count": 10,
     "metadata": {},
     "output_type": "execute_result"
    }
   ],
   "source": [
    "df[\"Date\"] = df.apply(separateurdate,axis=1)\n",
    "df.head()"
   ]
  },
  {
   "cell_type": "code",
   "execution_count": 11,
   "metadata": {},
   "outputs": [
    {
     "data": {
      "text/plain": [
       "nom_du_fichier            object\n",
       "contenue                  object\n",
       "Villes                    object\n",
       "Date              datetime64[ns]\n",
       "dtype: object"
      ]
     },
     "execution_count": 11,
     "metadata": {},
     "output_type": "execute_result"
    }
   ],
   "source": [
    "df['Date'] = pd.to_datetime(df['Date'],format=\"%b%d_%Y\")\n",
    "df.dtypes"
   ]
  },
  {
   "cell_type": "code",
   "execution_count": 12,
   "metadata": {},
   "outputs": [
    {
     "data": {
      "text/html": [
       "<div>\n",
       "<style scoped>\n",
       "    .dataframe tbody tr th:only-of-type {\n",
       "        vertical-align: middle;\n",
       "    }\n",
       "\n",
       "    .dataframe tbody tr th {\n",
       "        vertical-align: top;\n",
       "    }\n",
       "\n",
       "    .dataframe thead th {\n",
       "        text-align: right;\n",
       "    }\n",
       "</style>\n",
       "<table border=\"1\" class=\"dataframe\">\n",
       "  <thead>\n",
       "    <tr style=\"text-align: right;\">\n",
       "      <th></th>\n",
       "      <th>nom_du_fichier</th>\n",
       "      <th>contenue</th>\n",
       "      <th>Villes</th>\n",
       "      <th>Date</th>\n",
       "    </tr>\n",
       "  </thead>\n",
       "  <tbody>\n",
       "    <tr>\n",
       "      <th>0</th>\n",
       "      <td>BattleCreekDec19_2019.txt</td>\n",
       "      <td>Thank you. Thank you. Thank you to Vice Presid...</td>\n",
       "      <td>BattleCreek</td>\n",
       "      <td>2019-12-19</td>\n",
       "    </tr>\n",
       "    <tr>\n",
       "      <th>1</th>\n",
       "      <td>BemidjiSep18_2020.txt</td>\n",
       "      <td>There's a lot of people. That's great. Thank y...</td>\n",
       "      <td>Bemidji</td>\n",
       "      <td>2020-09-18</td>\n",
       "    </tr>\n",
       "    <tr>\n",
       "      <th>2</th>\n",
       "      <td>CharlestonFeb28_2020.txt</td>\n",
       "      <td>Thank you. Thank you. Thank you. All I can say...</td>\n",
       "      <td>Charleston</td>\n",
       "      <td>2020-02-28</td>\n",
       "    </tr>\n",
       "    <tr>\n",
       "      <th>3</th>\n",
       "      <td>CharlotteMar2_2020.txt</td>\n",
       "      <td>I want to thank you very much. North Carolina,...</td>\n",
       "      <td>Charlotte</td>\n",
       "      <td>2020-03-02</td>\n",
       "    </tr>\n",
       "    <tr>\n",
       "      <th>4</th>\n",
       "      <td>CincinnatiAug1_2019.txt</td>\n",
       "      <td>Thank you all. Thank you very much. Thank you ...</td>\n",
       "      <td>Cincinnati</td>\n",
       "      <td>2019-08-01</td>\n",
       "    </tr>\n",
       "  </tbody>\n",
       "</table>\n",
       "</div>"
      ],
      "text/plain": [
       "              nom_du_fichier  \\\n",
       "0  BattleCreekDec19_2019.txt   \n",
       "1      BemidjiSep18_2020.txt   \n",
       "2   CharlestonFeb28_2020.txt   \n",
       "3     CharlotteMar2_2020.txt   \n",
       "4    CincinnatiAug1_2019.txt   \n",
       "\n",
       "                                            contenue       Villes       Date  \n",
       "0  Thank you. Thank you. Thank you to Vice Presid...  BattleCreek 2019-12-19  \n",
       "1  There's a lot of people. That's great. Thank y...      Bemidji 2020-09-18  \n",
       "2  Thank you. Thank you. Thank you. All I can say...   Charleston 2020-02-28  \n",
       "3  I want to thank you very much. North Carolina,...    Charlotte 2020-03-02  \n",
       "4  Thank you all. Thank you very much. Thank you ...   Cincinnati 2019-08-01  "
      ]
     },
     "execution_count": 12,
     "metadata": {},
     "output_type": "execute_result"
    }
   ],
   "source": [
    "df.head()"
   ]
  },
  {
   "cell_type": "code",
   "execution_count": 13,
   "metadata": {},
   "outputs": [],
   "source": [
    "df.drop('nom_du_fichier',axis=1,inplace=True)"
   ]
  },
  {
   "cell_type": "code",
   "execution_count": 22,
   "metadata": {},
   "outputs": [
    {
     "data": {
      "text/html": [
       "<div>\n",
       "<style scoped>\n",
       "    .dataframe tbody tr th:only-of-type {\n",
       "        vertical-align: middle;\n",
       "    }\n",
       "\n",
       "    .dataframe tbody tr th {\n",
       "        vertical-align: top;\n",
       "    }\n",
       "\n",
       "    .dataframe thead th {\n",
       "        text-align: right;\n",
       "    }\n",
       "</style>\n",
       "<table border=\"1\" class=\"dataframe\">\n",
       "  <thead>\n",
       "    <tr style=\"text-align: right;\">\n",
       "      <th></th>\n",
       "      <th>contenue</th>\n",
       "      <th>Villes</th>\n",
       "      <th>Date</th>\n",
       "    </tr>\n",
       "  </thead>\n",
       "  <tbody>\n",
       "    <tr>\n",
       "      <th>0</th>\n",
       "      <td>Thank you. Thank you. Thank you to Vice Presid...</td>\n",
       "      <td>BattleCreek</td>\n",
       "      <td>2019-12-19</td>\n",
       "    </tr>\n",
       "    <tr>\n",
       "      <th>1</th>\n",
       "      <td>There's a lot of people. That's great. Thank y...</td>\n",
       "      <td>Bemidji</td>\n",
       "      <td>2020-09-18</td>\n",
       "    </tr>\n",
       "    <tr>\n",
       "      <th>2</th>\n",
       "      <td>Thank you. Thank you. Thank you. All I can say...</td>\n",
       "      <td>Charleston</td>\n",
       "      <td>2020-02-28</td>\n",
       "    </tr>\n",
       "    <tr>\n",
       "      <th>3</th>\n",
       "      <td>I want to thank you very much. North Carolina,...</td>\n",
       "      <td>Charlotte</td>\n",
       "      <td>2020-03-02</td>\n",
       "    </tr>\n",
       "    <tr>\n",
       "      <th>4</th>\n",
       "      <td>Thank you all. Thank you very much. Thank you ...</td>\n",
       "      <td>Cincinnati</td>\n",
       "      <td>2019-08-01</td>\n",
       "    </tr>\n",
       "  </tbody>\n",
       "</table>\n",
       "</div>"
      ],
      "text/plain": [
       "                                            contenue       Villes       Date\n",
       "0  Thank you. Thank you. Thank you to Vice Presid...  BattleCreek 2019-12-19\n",
       "1  There's a lot of people. That's great. Thank y...      Bemidji 2020-09-18\n",
       "2  Thank you. Thank you. Thank you. All I can say...   Charleston 2020-02-28\n",
       "3  I want to thank you very much. North Carolina,...    Charlotte 2020-03-02\n",
       "4  Thank you all. Thank you very much. Thank you ...   Cincinnati 2019-08-01"
      ]
     },
     "execution_count": 22,
     "metadata": {},
     "output_type": "execute_result"
    }
   ],
   "source": [
    "df.head()"
   ]
  }
 ],
 "metadata": {
  "kernelspec": {
   "display_name": "base",
   "language": "python",
   "name": "python3"
  },
  "language_info": {
   "codemirror_mode": {
    "name": "ipython",
    "version": 3
   },
   "file_extension": ".py",
   "mimetype": "text/x-python",
   "name": "python",
   "nbconvert_exporter": "python",
   "pygments_lexer": "ipython3",
   "version": "3.12.7"
  }
 },
 "nbformat": 4,
 "nbformat_minor": 2
}
